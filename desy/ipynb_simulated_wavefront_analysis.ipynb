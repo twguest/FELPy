{
 "cells": [
  {
   "cell_type": "code",
   "execution_count": null,
   "metadata": {},
   "outputs": [
    {
     "name": "stdout",
     "output_type": "stream",
     "text": [
      "working\n",
      "wfr loaded\n",
      "Running Full Analysis\n",
      "\n",
      "PULSE DURATION\n",
      "Pulse Duration\n",
      "7.496659678663313e-14\n",
      "SPATIAL RESOLUTION\n",
      "(0.000596350072847696, 0.000865338799767683)\n",
      "TEMPORAL RESOLUTION\n",
      "WAVELENGTH\n",
      "wavelength\n",
      "ENERGY STATISTICS\n",
      "PULSE DURATION\n",
      "Pulse Duration\n",
      "7.496659678663313e-14\n",
      "BEAM SIZE\n",
      "\n",
      "Initial Guess:  130 Initial Error: 0.42813125\n",
      "Enclosed Energy Radius: 158 0.59521586\n",
      "Error = 0.0065\n",
      "After 1024 Iterations\n",
      "(0.09422331150993597, 0.1367235303632939)\n",
      "CENTER OF MASS\n",
      "[0.3022652965638064, 0.419241000398251]\n",
      "COHERENCE LENGTH\n"
     ]
    }
   ],
   "source": [
    "# -*- coding: utf-8 -*-\n",
    "\n",
    "import sys\n",
    "\n",
    "from felpy.model.wavefront import Wavefront\n",
    "\n",
    "if __name__ == '__main__':\n",
    "    \n",
    "    print(\"working\")\n",
    "    in_directory = \"/gpfs/exfel/data/user/guestt/dCache/NanoKB-Pulse/EHC/2.h5\"  #sys.argv[1]\n",
    "    out_directory = \"/out\"  #sys.argv[2]\n",
    "    \n",
    "    wfr = Wavefront()\n",
    "    print(\"wfr loaded\")\n",
    "    wfr.load_hdf5(in_directory)\n",
    "    wfr.analysis(VERBOSE = True, DEBUG = True) \n",
    "    #print(wfr.custom_fields) ## good debug\n",
    "        \n",
    "    "
   ]
  },
  {
   "cell_type": "code",
   "execution_count": null,
   "metadata": {},
   "outputs": [],
   "source": []
  }
 ],
 "metadata": {
  "kernelspec": {
   "display_name": "optics",
   "language": "python",
   "name": "optics"
  },
  "language_info": {
   "codemirror_mode": {
    "name": "ipython",
    "version": 3
   },
   "file_extension": ".py",
   "mimetype": "text/x-python",
   "name": "python",
   "nbconvert_exporter": "python",
   "pygments_lexer": "ipython3",
   "version": "3.8.2"
  }
 },
 "nbformat": 4,
 "nbformat_minor": 4
}
