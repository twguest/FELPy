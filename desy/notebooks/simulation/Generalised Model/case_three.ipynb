{
 "cells": [
  {
   "cell_type": "code",
   "execution_count": 1,
   "id": "f911aaae-211e-4c06-afb9-4ef4ecf27beb",
   "metadata": {},
   "outputs": [
    {
     "name": "stdout",
     "output_type": "stream",
     "text": [
      "Initialising Single Particle Beamline\n"
     ]
    },
    {
     "ename": "KeyboardInterrupt",
     "evalue": "",
     "output_type": "error",
     "traceback": [
      "\u001b[0;31m---------------------------------------------------------------------------\u001b[0m",
      "\u001b[0;31mKeyboardInterrupt\u001b[0m                         Traceback (most recent call last)",
      "\u001b[0;32m<ipython-input-1-c494f41c0590>\u001b[0m in \u001b[0;36m<module>\u001b[0;34m\u001b[0m\n\u001b[1;32m     42\u001b[0m \u001b[0msrc_GM\u001b[0m \u001b[0;34m=\u001b[0m \u001b[0mSA1_Source\u001b[0m\u001b[0;34m(\u001b[0m\u001b[0mekev\u001b[0m \u001b[0;34m=\u001b[0m \u001b[0;36m4.98\u001b[0m\u001b[0;34m,\u001b[0m \u001b[0mq\u001b[0m \u001b[0;34m=\u001b[0m \u001b[0;36m0.25\u001b[0m\u001b[0;34m,\u001b[0m \u001b[0mS\u001b[0m \u001b[0;34m=\u001b[0m \u001b[0;36m1\u001b[0m\u001b[0;34m,\u001b[0m \u001b[0mmesh\u001b[0m \u001b[0;34m=\u001b[0m \u001b[0mmesh\u001b[0m\u001b[0;34m)\u001b[0m\u001b[0;34m\u001b[0m\u001b[0;34m\u001b[0m\u001b[0m\n\u001b[1;32m     43\u001b[0m \u001b[0;34m\u001b[0m\u001b[0m\n\u001b[0;32m---> 44\u001b[0;31m \u001b[0mspb\u001b[0m \u001b[0;34m=\u001b[0m \u001b[0msetup_spb\u001b[0m\u001b[0;34m(\u001b[0m\u001b[0mparameter_file\u001b[0m \u001b[0;34m=\u001b[0m \u001b[0;34m\"/gpfs/exfel/data/user/guestt/FELpy/felpy/data/params/spb-sfx_nkb_GM_4.98.json\"\u001b[0m\u001b[0;34m,\u001b[0m \u001b[0mtheta_KB\u001b[0m \u001b[0;34m=\u001b[0m \u001b[0;36m5e-03\u001b[0m\u001b[0;34m,\u001b[0m \u001b[0mtheta_HOM\u001b[0m \u001b[0;34m=\u001b[0m \u001b[0;36m5.0e-03\u001b[0m\u001b[0;34m,\u001b[0m \u001b[0mcrop\u001b[0m \u001b[0;34m=\u001b[0m \u001b[0;34m[\u001b[0m\u001b[0;34m'd1'\u001b[0m\u001b[0;34m,\u001b[0m \u001b[0;34m'NVE'\u001b[0m\u001b[0;34m]\u001b[0m\u001b[0;34m)\u001b[0m\u001b[0;31m#bl = spb.bl\u001b[0m\u001b[0;34m\u001b[0m\u001b[0;34m\u001b[0m\u001b[0m\n\u001b[0m\u001b[1;32m     45\u001b[0m \u001b[0;34m\u001b[0m\u001b[0m\n\u001b[1;32m     46\u001b[0m \u001b[0;34m\u001b[0m\u001b[0m\n",
      "\u001b[0;32m/gpfs/exfel/data/user/guestt/FELpy/felpy/model/beamlines/exfel_spb/methods.py\u001b[0m in \u001b[0;36msetup_spb\u001b[0;34m(parameter_file, options, ekev, apertures, surface, crop, theta_HOM, theta_KB, save_params)\u001b[0m\n\u001b[1;32m    166\u001b[0m \u001b[0;34m\u001b[0m\u001b[0m\n\u001b[1;32m    167\u001b[0m \u001b[0;34m\u001b[0m\u001b[0m\n\u001b[0;32m--> 168\u001b[0;31m     \u001b[0mspb\u001b[0m\u001b[0;34m.\u001b[0m\u001b[0mbuild_elements\u001b[0m\u001b[0;34m(\u001b[0m\u001b[0mfocus\u001b[0m \u001b[0;34m=\u001b[0m \u001b[0moptions\u001b[0m\u001b[0;34m)\u001b[0m\u001b[0;34m\u001b[0m\u001b[0;34m\u001b[0m\u001b[0m\n\u001b[0m\u001b[1;32m    169\u001b[0m     \u001b[0mspb\u001b[0m\u001b[0;34m.\u001b[0m\u001b[0mbuild_beamline\u001b[0m\u001b[0;34m(\u001b[0m\u001b[0mfocus\u001b[0m \u001b[0;34m=\u001b[0m \u001b[0moptions\u001b[0m\u001b[0;34m)\u001b[0m\u001b[0;34m\u001b[0m\u001b[0;34m\u001b[0m\u001b[0m\n\u001b[1;32m    170\u001b[0m \u001b[0;34m\u001b[0m\u001b[0m\n",
      "\u001b[0;32m/gpfs/exfel/data/user/guestt/FELpy/felpy/model/beamlines/exfel_spb/exfel_spb.py\u001b[0m in \u001b[0;36mbuild_elements\u001b[0;34m(self, focus)\u001b[0m\n\u001b[1;32m    339\u001b[0m             \u001b[0mself\u001b[0m\u001b[0;34m.\u001b[0m\u001b[0mNVE\u001b[0m\u001b[0;34m.\u001b[0m\u001b[0mname\u001b[0m \u001b[0;34m=\u001b[0m \u001b[0mself\u001b[0m\u001b[0;34m.\u001b[0m\u001b[0mparams\u001b[0m\u001b[0;34m[\u001b[0m\u001b[0;34m\"NVE\"\u001b[0m\u001b[0;34m]\u001b[0m\u001b[0;34m[\u001b[0m\u001b[0;34m\"name\"\u001b[0m\u001b[0;34m]\u001b[0m\u001b[0;34m\u001b[0m\u001b[0;34m\u001b[0m\u001b[0m\n\u001b[1;32m    340\u001b[0m \u001b[0;34m\u001b[0m\u001b[0m\n\u001b[0;32m--> 341\u001b[0;31m             self.NVE_error = MirPl(np.loadtxt(self.params['NVE_error']['mirror profile'].replace(\"../../\",\"\")),\n\u001b[0m\u001b[1;32m    342\u001b[0m                             \u001b[0m_dim\u001b[0m \u001b[0;34m=\u001b[0m \u001b[0mself\u001b[0m\u001b[0;34m.\u001b[0m\u001b[0mparams\u001b[0m\u001b[0;34m[\u001b[0m\u001b[0;34m'NVE_error'\u001b[0m\u001b[0;34m]\u001b[0m\u001b[0;34m[\u001b[0m\u001b[0;34m'orientation'\u001b[0m\u001b[0;34m]\u001b[0m\u001b[0;34m,\u001b[0m\u001b[0;34m\u001b[0m\u001b[0;34m\u001b[0m\u001b[0m\n\u001b[1;32m    343\u001b[0m                             \u001b[0m_ang\u001b[0m \u001b[0;34m=\u001b[0m \u001b[0mself\u001b[0m\u001b[0;34m.\u001b[0m\u001b[0mparams\u001b[0m\u001b[0;34m[\u001b[0m\u001b[0;34m'NVE_error'\u001b[0m\u001b[0;34m]\u001b[0m\u001b[0;34m[\u001b[0m\u001b[0;34m'incidence angle'\u001b[0m\u001b[0;34m]\u001b[0m\u001b[0;34m,\u001b[0m \u001b[0;31m### + self.params['NVE']['incidence angle'],\u001b[0m\u001b[0;34m\u001b[0m\u001b[0;34m\u001b[0m\u001b[0m\n",
      "\u001b[0;32m/gpfs/exfel/data/user/guestt/FELpy/WPG/wpg/srwlib.py\u001b[0m in \u001b[0;36msrwl_opt_setup_surf_height_2d\u001b[0;34m(_height_prof_data, _dim, _ang, _ang_r, _amp_coef, _ar_arg_long, _ar_arg_tr, _nx, _ny, _size_x, _size_y, _x, _y, _refl)\u001b[0m\n\u001b[1;32m   7756\u001b[0m \u001b[0;31m# =============================================================================\u001b[0m\u001b[0;34m\u001b[0m\u001b[0;34m\u001b[0m\u001b[0;34m\u001b[0m\u001b[0m\n\u001b[1;32m   7757\u001b[0m \u001b[0;34m\u001b[0m\u001b[0m\n\u001b[0;32m-> 7758\u001b[0;31m             \u001b[0mofst\u001b[0m \u001b[0;34m=\u001b[0m \u001b[0;36m2\u001b[0m \u001b[0;34m*\u001b[0m \u001b[0mix\u001b[0m \u001b[0;34m+\u001b[0m \u001b[0;34m(\u001b[0m\u001b[0;36m2\u001b[0m \u001b[0;34m*\u001b[0m \u001b[0mauxMesh\u001b[0m\u001b[0;34m.\u001b[0m\u001b[0mnx\u001b[0m\u001b[0;34m)\u001b[0m \u001b[0;34m*\u001b[0m \u001b[0miy\u001b[0m\u001b[0;34m\u001b[0m\u001b[0;34m\u001b[0m\u001b[0m\n\u001b[0m\u001b[1;32m   7759\u001b[0m             \u001b[0moptSlopeErr\u001b[0m\u001b[0;34m.\u001b[0m\u001b[0marTr\u001b[0m\u001b[0;34m[\u001b[0m\u001b[0mofst\u001b[0m\u001b[0;34m]\u001b[0m \u001b[0;34m=\u001b[0m \u001b[0msqrt\u001b[0m\u001b[0;34m(\u001b[0m\u001b[0m_refl\u001b[0m\u001b[0;34m)\u001b[0m \u001b[0;31m# Amplitude Transmission\u001b[0m\u001b[0;34m\u001b[0m\u001b[0;34m\u001b[0m\u001b[0m\n\u001b[1;32m   7760\u001b[0m             \u001b[0moptSlopeErr\u001b[0m\u001b[0;34m.\u001b[0m\u001b[0marTr\u001b[0m\u001b[0;34m[\u001b[0m\u001b[0mofst\u001b[0m \u001b[0;34m+\u001b[0m \u001b[0;36m1\u001b[0m\u001b[0;34m]\u001b[0m \u001b[0;34m=\u001b[0m \u001b[0;36m0.0\u001b[0m  \u001b[0;31m# Optical Path Difference\u001b[0m\u001b[0;34m\u001b[0m\u001b[0;34m\u001b[0m\u001b[0m\n",
      "\u001b[0;31mKeyboardInterrupt\u001b[0m: "
     ]
    }
   ],
   "source": [
    "# -*- coding: utf-8 -*-\n",
    "import numpy as np\n",
    "from matplotlib import pyplot as plt\n",
    "from felpy.model.source.coherent import construct_SA1_wavefront\n",
    "\n",
    "from wpg.optical_elements import Drift\n",
    "from felpy.model.core.beamline import Beamline\n",
    "from felpy.model.beamlines.exfel_spb.exfel_spb import Instrument, propagation_parameters\n",
    "from felpy.model.beamlines.exfel_spb.methods import setup_spb\n",
    "from felpy.model.core.source import SA1_Source, Source_WPG\n",
    "from felpy.model.core.mesh import Mesh\n",
    "\n",
    "from wpg.srwl_uti_smp import srwl_opt_setup_transm_from_file as Sample\n",
    "\n",
    "def speckle_mask(wfr, _x = 0, _y = 0):\n",
    "    \"\"\"\n",
    "    propagate through the speckle generator\n",
    "    \"\"\"\n",
    "    s = Sample(\"/gpfs/exfel/data/user/guestt/FELpy/felpy/data/samples/speckle.tif\", \n",
    "               rx = 100e-06/1000, ry = 100e-06/1000,\n",
    "               thickness = 60e-06,\n",
    "               delta = 3.35e-03,\n",
    "               atten_len = 20e-06,\n",
    "               xc = 0, yc = 0,\n",
    "               shift_x = _y, shift_y = _x)\n",
    "\n",
    "\n",
    "    bl = Beamline()\n",
    "    bl.append(s, propagation_parameters(1,1,1,1,mode = 'fresnel'))\n",
    "    bl.propagate(wfr)\n",
    "    \n",
    "    return wfr\n",
    "    \n",
    "def z_eff(z1,z2):\n",
    "    return z1*z2/(z1+z2)\n",
    "    \n",
    "\n",
    "    \n",
    "from wpg.wpg_uti_wf import plot_intensity_map  \n",
    "\n",
    "mesh = Mesh(nx = 512, ny = 512, xMin = -300e-06, xMax = 300e-06, yMin= -300e-06, yMax= 300e-06)\n",
    "src_GM = SA1_Source(ekev = 4.98, q = 0.25, S = 1, mesh = mesh)\n",
    "\n",
    "spb = setup_spb(parameter_file = \"/gpfs/exfel/data/user/guestt/FELpy/felpy/data/params/spb-sfx_nkb_GM_4.98.json\", theta_KB = 5e-03, theta_HOM = 5.0e-03, crop = ['d1', 'NVE'])#bl = spb.bl\n",
    "\n",
    "\n",
    "spb.bl.append(Drift(2.2+8e-02), propagation_parameters(1,1,1,1, mode = 'quadratic'))\n",
    "spb.bl.propagate(src_GM.wfr)\n",
    "\n",
    "speckle_mask(src_GM.wfr)\n",
    "     "
   ]
  },
  {
   "cell_type": "code",
   "execution_count": null,
   "id": "cc162004-b29a-4899-ab3b-d9e8b9c00b29",
   "metadata": {},
   "outputs": [],
   "source": [
    "plot_intensity_map(src_GM.wfr)"
   ]
  },
  {
   "cell_type": "code",
   "execution_count": null,
   "id": "67a0cc8a-5d15-4dd3-858f-6ece76085e89",
   "metadata": {},
   "outputs": [],
   "source": []
  }
 ],
 "metadata": {
  "kernelspec": {
   "display_name": "optics",
   "language": "python",
   "name": "optics"
  },
  "language_info": {
   "codemirror_mode": {
    "name": "ipython",
    "version": 3
   },
   "file_extension": ".py",
   "mimetype": "text/x-python",
   "name": "python",
   "nbconvert_exporter": "python",
   "pygments_lexer": "ipython3",
   "version": "3.8.2"
  }
 },
 "nbformat": 4,
 "nbformat_minor": 5
}
