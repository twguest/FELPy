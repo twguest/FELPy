{
 "cells": [
  {
   "cell_type": "code",
   "execution_count": 4,
   "metadata": {},
   "outputs": [],
   "source": [
    "import sys\n",
    "\n",
    "sys.path.append(\"/gpfs/exfel/data/user/guestt/WPG\") # DESY MAXWELL PATH\n",
    "sys.path.append(\"/gpfs/exfel/data/user/guestt/spb_model\") # DESY MAXWELL PATH\n",
    "\n",
    "from model.src.coherent import coherentSource\n",
    "from model.beamline.structure import BeamlineModel\n",
    "from model.beamline.samplingCalc import getImageProperties, getRequiredDistance\n"
   ]
  },
  {
   "cell_type": "code",
   "execution_count": 5,
   "metadata": {},
   "outputs": [],
   "source": [
    "def get_wfr(element, outdir, focus = 'micron'):\n",
    "    \"\"\"\n",
    "    Return the beamline at some optical element / transverse plane (coherent case)\n",
    "\n",
    "    :param element: beamline element [str] to return beamline from\n",
    "    :param outdir: directory for .h5 saving\n",
    "    \"\"\"  \n",
    "    \n",
    "    if focus == 'micron':\n",
    "        ekev = 9.2\n",
    "        q = 0.25\n",
    "    elif focus == 'nano':\n",
    "        ekev = 4.96\n",
    "        q = 0.25\n",
    "    \n",
    "    wfr = coherentSource(1024, 1024, ekev, q)\n",
    "    \n",
    "    spb = BeamlineModel()\n",
    "    \n",
    "    spb.setupHOMs(ekev, 2.2e-03)\n",
    "    spb.setupKBs(q, 3.5e-03)\n",
    "    \n",
    "    spb.mirrorProfiles(toggle = \"off\", aperture = True, overwrite = True)\n",
    "    spb.buildElements(focus = focus)\n",
    "    spb.buildBeamline(focus = focus)\n",
    "    spb.cropBeamline(element)\n",
    "    \n",
    "    bl = spb.get_beamline()\n",
    "    bl.propagate(wfr)\n",
    "    \n",
    "    if outdir is not None:\n",
    "        wfr.store_hdf5(outdir)\n",
    "    \n",
    "    return wfr"
   ]
  },
  {
   "cell_type": "code",
   "execution_count": 8,
   "metadata": {},
   "outputs": [],
   "source": [
    "def main():\n",
    "    \n",
    "    element = 'focus' # plane to be imaged\n",
    "    pixel_size = 13.5e-06\n",
    "    npixels = [2156/13.5, 2048/13.5]\n",
    "    \n",
    "    z = 1 # nominal propagation distance\n",
    "    \n",
    "    wfr = get_wfr(element = element, outdir = None, focus = 'nano')\n",
    "    \n",
    "    \n",
    "    zmin = getRequiredDistance(wfr, pixel_size)\n",
    "    getImageProperties(wfr, 1, pixel_size, npixels)\n",
    "    "
   ]
  },
  {
   "cell_type": "code",
   "execution_count": 9,
   "metadata": {},
   "outputs": [
    {
     "name": "stdout",
     "output_type": "stream",
     "text": [
      "Initialising Single Particle Beamline\n",
      "required propagation distance: 0.19633940561927712 m\n",
      "% of Detector Filled By Beam in X-direction: 46.16615017323597 %\n",
      "% of Detector Filled By Beam in Y-direction: 70.57707135005174 %\n",
      "Number of Pixels Beam Occupies in X-direction: 73.72905168407166 pixels\n",
      "Number of Pixels Beam Occupies in Y-direction: 107.06803120363405 pixels\n",
      "Image Pixel Resolution in X-direction: 0.04930826415452722 um\n",
      "Image Pixel Resolution in Y-direction: 0.016964136850426425 um\n"
     ]
    }
   ],
   "source": [
    "if __name__ == \"__main__\":\n",
    "    main()"
   ]
  },
  {
   "cell_type": "code",
   "execution_count": null,
   "metadata": {},
   "outputs": [],
   "source": []
  }
 ],
 "metadata": {
  "kernelspec": {
   "display_name": "optics",
   "language": "python",
   "name": "python3"
  },
  "language_info": {
   "codemirror_mode": {
    "name": "ipython",
    "version": 3
   },
   "file_extension": ".py",
   "mimetype": "text/x-python",
   "name": "python",
   "nbconvert_exporter": "python",
   "pygments_lexer": "ipython3",
   "version": "3.8.2"
  }
 },
 "nbformat": 4,
 "nbformat_minor": 2
}
