{
 "cells": [
  {
   "cell_type": "code",
   "execution_count": 1,
   "metadata": {},
   "outputs": [],
   "source": [
    "import os \n",
    "import shutil\n",
    "from karabo_data import RunDirectory\n",
    "from felpy.utils.daq_utils import load_data, shimadzu_reshape\n",
    "from extra_data import open_run, RunDirectory, H5File\n",
    "import numpy as np\n",
    "from felpy.utils.os_utils import mkdir_p\n",
    "from felpy.utils.vis_utils import  plot_fill_between, simple_line_plot, colorbar_plot\n",
    "from felpy.analysis.optics.enclosed_energy import get_enclosed_energy\n",
    "from felpy.analysis.optics.centroid import get_com\n",
    "from labwork.about import dCache\n",
    "from felpy.utils.np_utils import get_mesh\n",
    "from felpy.utils.vis_utils import animate\n",
    "from felpy.utils.vis_utils import plot_fill_between\n",
    "from matplotlib import pyplot as plt\n",
    "from felpy.analysis.optics.enclosed_energy import get_enclosed_energy\n",
    "from tqdm import tqdm\n",
    "from labwork.analysis.experiment.Diagnostics.shimadzu_tools import plot_com, plot_enclosed_energy, create_gif, plot_xgm\n"
   ]
  },
  {
   "cell_type": "code",
   "execution_count": 24,
   "metadata": {},
   "outputs": [],
   "source": [
    "class Shimadzu:\n",
    "    \n",
    "    def __init__(self, proposal, run, VERBOSE = False):\n",
    "        \"\"\"\n",
    "        a lazy class-type structure to deal with data collected by the shimadzu detector\n",
    "        \"\"\"\n",
    "        self.proposal = proposal\n",
    "        self.run = run\n",
    "\n",
    "        self.sources = {}\n",
    "        self.sources['upstream'] = \"SA1_XTD9_IMGPII45/CAM/BEAMVIEW_SHIMADZU:daqOutput\"\n",
    "        self.sources['downstream'] = \"SPB_EHD_HPVX2_1/CAM/CAMERA:daqOutput\"\n",
    "        \n",
    "        self.VERBOSE = VERBOSE\n",
    "        \n",
    "    def load_upstream_data(self, px = 1, py = 1):\n",
    "        \n",
    "        try:\n",
    "            upstream = open_run(self.proposal, self.run)\n",
    "\n",
    "            self.u_ii = np.array(upstream.get_array(self.sources['upstream'], 'data.image.pixels'))\n",
    "            self.u_ii = shimadzu_reshape(self.u_ii)[:,:,:,:]\n",
    "            self.u_mesh = get_mesh(self.u_ii, px, py)\n",
    "\n",
    "        except(KeyError):\n",
    "            print(\"No upstream data available\")\n",
    "            \n",
    "    def load_downstream_data(self, px = 1, py = 1):\n",
    "        \n",
    "        try:\n",
    "            downstream = open_run(self.proposal, self.run)\n",
    "\n",
    "            self.d_ii = np.array(downstream.get_array(self.sources['downstream'], 'data.image.pixels'))\n",
    "            self.d_ii = shimadzu_reshape(self.d_ii)[:,:,:,:]\n",
    "            self.d_mesh = get_mesh(self.d_ii, px, py)\n",
    "\n",
    "        except(KeyError):\n",
    "            print(\"No upstream data available\")\n",
    "            \n",
    "    def create_gif(dataset, sdir, fname, title = \"\", xlabel = \"x (pixels)\", ylabel = \"y (pixels)\"):\n",
    "        \n",
    "        if dataset == 'upstream':\n",
    "            ii = self.u_ii\n",
    "            mesh = self.u_mesh\n",
    "        elif dataset == 'downstream':\n",
    "            ii = self.d_ii\n",
    "            mesh = self.d_mesh\n",
    "        \n",
    "        \n",
    "        \n",
    "        plt.style.use(['science','ieee'])\n",
    "        \n",
    "        mkdir_p(sdir)\n",
    "\n",
    "        tmp_dir = sdir + \"/tmp/\"\n",
    "        mkdir_p(tmp_dir)\n",
    "\n",
    "        for i in range(ii.shape[-2]):\n",
    "            colorbar_plot(ii[:,:,i,:].mean(-1),\n",
    "                         mesh, \n",
    "                         title = title,\n",
    "                         xlabel = xlabel,\n",
    "                         ylabel = ylabel,\n",
    "                         clabel = \"Intensity (a.u.)\",\n",
    "                         normalise = False,\n",
    "                         context = 'talk',\n",
    "                         cmap = 'jet',\n",
    "                         label = \"pulse: {}\".format(i+1),\n",
    "                         sdir = tmp_dir + \"pulse_{:0>4d}\".format(i))\n",
    "\n",
    "        animate(tmp_dir, sdir, fname, delay = 0.1, rmdir = True)"
   ]
  },
  {
   "cell_type": "code",
   "execution_count": 26,
   "metadata": {},
   "outputs": [
    {
     "ename": "UnboundLocalError",
     "evalue": "local variable 'ii' referenced before assignment",
     "output_type": "error",
     "traceback": [
      "\u001b[0;31m---------------------------------------------------------------------------\u001b[0m",
      "\u001b[0;31mUnboundLocalError\u001b[0m                         Traceback (most recent call last)",
      "\u001b[0;32m<ipython-input-26-906740dbd1db>\u001b[0m in \u001b[0;36m<module>\u001b[0;34m\u001b[0m\n\u001b[1;32m      2\u001b[0m \u001b[0ms\u001b[0m\u001b[0;34m.\u001b[0m\u001b[0mload_upstream_data\u001b[0m\u001b[0;34m(\u001b[0m\u001b[0;34m)\u001b[0m\u001b[0;34m\u001b[0m\u001b[0;34m\u001b[0m\u001b[0m\n\u001b[1;32m      3\u001b[0m \u001b[0ms\u001b[0m\u001b[0;34m.\u001b[0m\u001b[0mload_downstream_data\u001b[0m\u001b[0;34m(\u001b[0m\u001b[0;34m)\u001b[0m\u001b[0;34m\u001b[0m\u001b[0;34m\u001b[0m\u001b[0m\n\u001b[0;32m----> 4\u001b[0;31m \u001b[0ms\u001b[0m\u001b[0;34m.\u001b[0m\u001b[0mcreate_gif\u001b[0m\u001b[0;34m(\u001b[0m\u001b[0;34m'upstream'\u001b[0m\u001b[0;34m,\u001b[0m \u001b[0mdCache\u001b[0m \u001b[0;34m+\u001b[0m \u001b[0;34m\"/tmp/\"\u001b[0m\u001b[0;34m,\u001b[0m \u001b[0;34m\"test_goif\"\u001b[0m\u001b[0;34m)\u001b[0m\u001b[0;34m\u001b[0m\u001b[0;34m\u001b[0m\u001b[0m\n\u001b[0m",
      "\u001b[0;32m<ipython-input-24-cc44b6a68067>\u001b[0m in \u001b[0;36mcreate_gif\u001b[0;34m(dataset, sdir, fname, title, xlabel, ylabel)\u001b[0m\n\u001b[1;32m     56\u001b[0m         \u001b[0mmkdir_p\u001b[0m\u001b[0;34m(\u001b[0m\u001b[0mtmp_dir\u001b[0m\u001b[0;34m)\u001b[0m\u001b[0;34m\u001b[0m\u001b[0;34m\u001b[0m\u001b[0m\n\u001b[1;32m     57\u001b[0m \u001b[0;34m\u001b[0m\u001b[0m\n\u001b[0;32m---> 58\u001b[0;31m         \u001b[0;32mfor\u001b[0m \u001b[0mi\u001b[0m \u001b[0;32min\u001b[0m \u001b[0mrange\u001b[0m\u001b[0;34m(\u001b[0m\u001b[0mii\u001b[0m\u001b[0;34m.\u001b[0m\u001b[0mshape\u001b[0m\u001b[0;34m[\u001b[0m\u001b[0;34m-\u001b[0m\u001b[0;36m2\u001b[0m\u001b[0;34m]\u001b[0m\u001b[0;34m)\u001b[0m\u001b[0;34m:\u001b[0m\u001b[0;34m\u001b[0m\u001b[0;34m\u001b[0m\u001b[0m\n\u001b[0m\u001b[1;32m     59\u001b[0m             colorbar_plot(ii[:,:,i,:].mean(-1),\n\u001b[1;32m     60\u001b[0m                          \u001b[0mmesh\u001b[0m\u001b[0;34m,\u001b[0m\u001b[0;34m\u001b[0m\u001b[0;34m\u001b[0m\u001b[0m\n",
      "\u001b[0;31mUnboundLocalError\u001b[0m: local variable 'ii' referenced before assignment"
     ]
    }
   ],
   "source": [
    "s = Shimadzu('p002919', '97')\n",
    "s.load_upstream_data()\n",
    "s.load_downstream_data()\n",
    "s.create_gif('upstream', dCache + \"/tmp/\", \"test_goif\")"
   ]
  },
  {
   "cell_type": "code",
   "execution_count": null,
   "metadata": {},
   "outputs": [],
   "source": []
  }
 ],
 "metadata": {
  "kernelspec": {
   "display_name": "optics",
   "language": "python",
   "name": "optics"
  },
  "language_info": {
   "codemirror_mode": {
    "name": "ipython",
    "version": 3
   },
   "file_extension": ".py",
   "mimetype": "text/x-python",
   "name": "python",
   "nbconvert_exporter": "python",
   "pygments_lexer": "ipython3",
   "version": "3.8.2"
  }
 },
 "nbformat": 4,
 "nbformat_minor": 2
}
