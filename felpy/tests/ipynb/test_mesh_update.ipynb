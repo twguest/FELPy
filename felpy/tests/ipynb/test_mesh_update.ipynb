{
 "cells": [
  {
   "cell_type": "code",
   "execution_count": 1,
   "id": "27b3288f-e1df-40b5-9095-5d92aa686afe",
   "metadata": {},
   "outputs": [],
   "source": [
    "from wpg.optical_elements import Drift\n",
    "from felpy.model.core.beamline import Beamline\n",
    "from felpy.model.core.source import SA1_Source\n",
    "from felpy.model.core.mesh import Mesh\n",
    "from felpy.model.tools import propagation_parameters"
   ]
  },
  {
   "cell_type": "code",
   "execution_count": 2,
   "id": "ffef47ae-5ef2-4ae0-97a3-a904c9ffcd32",
   "metadata": {},
   "outputs": [
    {
     "name": "stdout",
     "output_type": "stream",
     "text": [
      "\n",
      "Mesh Type Object: \n",
      "\n",
      "Spatial Parameters:\n",
      "nx: 512\n",
      "ny: 512\n",
      "xMin: -0.0003\n",
      "xMax: 0.0003\n",
      "yMin: -0.0003\n",
      "yMax: -0.0003\n",
      "\n"
     ]
    }
   ],
   "source": [
    "mesh = Mesh(nx = 512, ny = 512, xMin = -300e-06, yMin = -300e-06, xMax = 300e-06, yMax = -300e-06)\n",
    "src = SA1_Source(ekev = 10, q = 0.25, mesh = mesh)\n",
    "print(mesh)"
   ]
  },
  {
   "cell_type": "code",
   "execution_count": 3,
   "id": "e10629fc-f1f4-4786-9db6-faf603911554",
   "metadata": {},
   "outputs": [],
   "source": [
    "bl = Beamline()\n",
    "bl.append(Drift(0), propagation_parameters(1,1,1,1,mode = 'quadratic'))\n",
    "bl.propagate(src.wfr)\n",
    "print(mesh)"
   ]
  }
 ],
 "metadata": {
  "kernelspec": {
   "display_name": "optics",
   "language": "python",
   "name": "optics"
  },
  "language_info": {
   "codemirror_mode": {
    "name": "ipython",
    "version": 3
   },
   "file_extension": ".py",
   "mimetype": "text/x-python",
   "name": "python",
   "nbconvert_exporter": "python",
   "pygments_lexer": "ipython3",
   "version": "3.8.2"
  }
 },
 "nbformat": 4,
 "nbformat_minor": 5
}
