{
 "cells": [
  {
   "cell_type": "markdown",
   "id": "a0d60bf1-a915-4238-a5c3-fced65262f43",
   "metadata": {},
   "source": [
    "## Generating an instance of the SPB-SFX instrument\n",
    "\n",
    "FELpy extends the functionality of wpg.wavefront.Wavefront and wpg.beamline.Beamline classes, and adds extended, instrument specific functionality to the design and analysis of XFEL beamline data by the use of the Instrument class.\n",
    "\n",
    "We have developed a high-level API to quickly retrieve the the SPB-SFX instrument class, which contains the wpg beamline structure.\n",
    "\n",
    "Please note that this is still under developement, and some of the cracks may be obvious, in future we will pursuit a more rounded approach."
   ]
  },
  {
   "cell_type": "markdown",
   "id": "a92316d6-2399-49f4-9d38-07218f3092d7",
   "metadata": {},
   "source": [
    "The following example addresses the case for a paticular paramater space of the instrument, which is loaded from a .json file. We note that the propagation parameters for each propagation step (in the wpg/srw sense) are sensitive to the properties of the wavefront and may need to be changed accordingly.\n",
    "\n",
    "The setup_spb function is a wrapper for the Instrument class, which contains functions for loading and modifying instrument parameters, as well as building the beamline object."
   ]
  },
  {
   "cell_type": "markdown",
   "id": "06b166a2-53be-4143-a1d7-3121a3a8ddf5",
   "metadata": {},
   "source": [
    "## Initialising the SPB-SFX Instrument"
   ]
  },
  {
   "cell_type": "code",
   "execution_count": 1,
   "id": "c64a411a-03ed-4ef0-837a-9daedcb9e46d",
   "metadata": {},
   "outputs": [],
   "source": [
    "from felpy.model.beamlines.exfel_spb.methods import setup_spb"
   ]
  },
  {
   "cell_type": "code",
   "execution_count": 2,
   "id": "e79805c2-107e-435c-8bf5-e54c044eae5e",
   "metadata": {},
   "outputs": [
    {
     "name": "stdout",
     "output_type": "stream",
     "text": [
      "Initialising Single Particle Beamline\n"
     ]
    }
   ],
   "source": [
    "spb_sfx = setup_spb(parameter_file = \"/gpfs/exfel/data/user/guestt/FELpy/felpy/data/params/spb-sfx_nkb_FAST.json\", ### This is the .json file containing all of the necessary parameters to describe the spb-sfx isntrument and propagation\n",
    "                    options = 'nano', ### here we specify the nano-kb configuration, also accepts 'direct' and 'micron', although they are less developed\n",
    "                    ekev = 5.0, ### we need to specify the approximate beam energy for configuring our mirrors\n",
    "                    apertures = True, ### option to toggle mirror apertures on and off\n",
    "                    surface = 'real', ### toggle for mirror surfaces - can be 'real' or 'flat'\n",
    "                    crop = None, ### option to crop the beamline between two elements, takes list i.e. [\"HOM1\", \"HOM2\"] and returns truncated beamline\n",
    "                    theta_HOM = 2.3e-03, ### nominal angle of Horizontal offset mirrors, can be changed independently afterwards\n",
    "                    theta_KB = 3.5e-03, ### nominal angle of KB mirrors, can be changed independently afterwards\n",
    "                    save_params = False) ### currently deprecated.\n"
   ]
  },
  {
   "cell_type": "markdown",
   "id": "7dfdbbf6-6775-46ac-b6a8-24ed98fe2a0d",
   "metadata": {},
   "source": [
    "## Adjusting Mirrors\n",
    "\n",
    "The above spb_sfx variable is an instance of the exfel_spb instrument class and contains some special functions for editing the initialised beamline model.\n",
    "For example, we can orientation angle of a mirror as follows - note that we state the energy (in keV). Note: in order to commit these changes, we are required to rebuild the beamline:"
   ]
  },
  {
   "cell_type": "code",
   "execution_count": 3,
   "id": "553b6a82-6fab-4611-b309-f586ec9e7c2b",
   "metadata": {},
   "outputs": [],
   "source": [
    "spb_sfx.adjust_mirror(mirror_name = \"HOM1\",\n",
    "                      ekev = 5.0,\n",
    "                      new_ang = 3.5e-03)\n",
    "\n",
    "spb_sfx.rebuild(focus = 'nano')"
   ]
  },
  {
   "cell_type": "markdown",
   "id": "fb695ab1-f21d-406d-a398-f50f346a142a",
   "metadata": {},
   "source": [
    "## Editing Beamline Elements\n",
    "You can see all of the elements in the beamline in order:"
   ]
  },
  {
   "cell_type": "code",
   "execution_count": 4,
   "id": "0e615549-c884-4643-afd2-2f53fe124cfb",
   "metadata": {},
   "outputs": [
    {
     "data": {
      "text/plain": [
       "['d1',\n",
       " 'HOM1',\n",
       " 'd2',\n",
       " 'HOM2',\n",
       " 'd3',\n",
       " 'NKB_PSlit',\n",
       " 'd4',\n",
       " 'NHE_error',\n",
       " 'NHE',\n",
       " 'd5',\n",
       " 'NVE_error',\n",
       " 'NVE']"
      ]
     },
     "execution_count": 4,
     "metadata": {},
     "output_type": "execute_result"
    }
   ],
   "source": [
    "spb_sfx.list_elements()"
   ]
  },
  {
   "cell_type": "markdown",
   "id": "06cdd818-3a78-41fd-9508-ee7a7204cb4c",
   "metadata": {},
   "source": [
    "There are two alternative methods of editing the beamline:\n",
    "\n",
    "### 1. Editing Beamline Objects (Not reccomended).\n",
    "The exfel_spb instrument class generates wpg.optical_elements type objects from the parameters file - we can edit them directly using the above listed elements, e.g:"
   ]
  },
  {
   "cell_type": "code",
   "execution_count": 9,
   "id": "fd7c1d7d-8e50-4794-93e9-f6dcb6031032",
   "metadata": {},
   "outputs": [],
   "source": [
    "spb_sfx.d1.L = 247 ### change the drift distance of the first drift element (d1) to 247 m\n",
    "spb_sfx.build_beamline() ### rebuilds the wpg beamline from the updated object, note that calling spb_sfx.rebuild() will overwrite the prior change."
   ]
  },
  {
   "cell_type": "markdown",
   "id": "26abce6f-6163-4fba-9b8d-b9ef6712f264",
   "metadata": {
    "tags": []
   },
   "source": [
    "### 2. Editing Parameters."
   ]
  },
  {
   "cell_type": "code",
   "execution_count": 15,
   "id": "9f5b559d-a8da-442e-a5f8-b7d114c1c256",
   "metadata": {},
   "outputs": [
    {
     "name": "stdout",
     "output_type": "stream",
     "text": [
      "{'name': 'd1', 'description': 'Drift from Source to HOM1', 'distance': 247, 'pp': [1, 2.5, 1, 2.5, 'quadratic']}\n"
     ]
    }
   ],
   "source": [
    "print(spb_sfx.params['d1']) ### the parameters file is loaded as a dictionary - this step gives us all the available parameters to change.\n",
    "spb_sfx.params['d1']['distance'] = 247 ### note, changing this drift distance does not affect future drift distances (this is a to-do).\n",
    "spb_sfx.rebuild()\n"
   ]
  },
  {
   "cell_type": "markdown",
   "id": "bbb573af-9eab-4336-ae9f-730360bbf6d9",
   "metadata": {},
   "source": [
    "## Extracting the Beamline object\n",
    "Finally, we want to extract the wpg beamline object for use in simulation."
   ]
  },
  {
   "cell_type": "code",
   "execution_count": 17,
   "id": "534a625f-e7ca-4feb-a29d-c5baa870269d",
   "metadata": {},
   "outputs": [],
   "source": [
    "bl = spb_sfx.bl"
   ]
  },
  {
   "cell_type": "markdown",
   "id": "ce8ca2f3-cc96-4beb-b314-23132a9eae28",
   "metadata": {},
   "source": [
    "author: twguest"
   ]
  },
  {
   "cell_type": "code",
   "execution_count": null,
   "id": "ca059cd2-97ac-400e-a74f-9c368a1cfb61",
   "metadata": {},
   "outputs": [],
   "source": []
  }
 ],
 "metadata": {
  "kernelspec": {
   "display_name": "optics",
   "language": "python",
   "name": "optics"
  },
  "language_info": {
   "codemirror_mode": {
    "name": "ipython",
    "version": 3
   },
   "file_extension": ".py",
   "mimetype": "text/x-python",
   "name": "python",
   "nbconvert_exporter": "python",
   "pygments_lexer": "ipython3",
   "version": "3.8.2"
  }
 },
 "nbformat": 4,
 "nbformat_minor": 5
}
