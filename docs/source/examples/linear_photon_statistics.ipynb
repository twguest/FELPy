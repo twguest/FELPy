{
 "cells": [
  {
   "cell_type": "markdown",
   "id": "112a34dd-078d-49be-8fc0-65223092dd9a",
   "metadata": {},
   "source": [
    "# Statistics of the European XFEL\n",
    "\n",
    "\n",
    "Free Electron Lasers are parametric amplifiers that actively filter the temporal and spatial frequencies of the input synchrotron radiation signal during a high-gain amplification process. Two regimes of the amplification can be identified depedening on the saturation of the electron beam. \n",
    "\n",
    "Prior to saturation, the amplification process is linear. We define linear-regime corresponds to the propagation distances over which $z$ < $z_{sat}$, where $z_{sat}$ is the saturation point which we define as the point where the amplification is no-longer exponential. In the case of SASE FELs, the input signal is shot-noise fluctuations in the electron beam current density which originate from Poisson processes in photo-injection, which can be approximated to be a Gaussian random process. A linearly filtered Gaussian random process is also Gaussian, therefore in the linear-regime, the field inherents the statistical properties of the beam-current. For a Gaussian process, all higher-order correlation functions can be determined from a single measurement of the correlation of the field. We therefore expect that the probability distribution of the instantaneous radiation will follow a negative-exponential, and that the integrals of the instantaeous intensity and the integrated spectral density will fluctuate in accordance with the Gamma distribution:\n",
    "\n",
    "$\n",
    "p(W) = \\frac{M^M}{\\Gamma(M)}\\left(\\frac{W}{\\langle W \\rangle}\\right)^{M-1}\\frac{1}{\\langle W \\rangle} \\exp\\left(-M\\frac{W}{\\langle W \\rangle} \\right)\n",
    "$\n",
    "\n",
    "In the non-linear regime...\n"
   ]
  },
  {
   "cell_type": "code",
   "execution_count": 1,
   "id": "bc9658a4-e01b-49ea-9225-54a71c635744",
   "metadata": {},
   "outputs": [],
   "source": [
    "from felpy.model.source import SA1_Source\n",
    "from felpy.model.mesh import Mesh\n",
    "import numpy as np\n",
    "from tqdm import tqdm"
   ]
  },
  {
   "cell_type": "code",
   "execution_count": 4,
   "id": "b9dd3e06-539e-4b27-9209-8c8a6668f0e2",
   "metadata": {},
   "outputs": [
    {
     "name": "stderr",
     "output_type": "stream",
     "text": [
      "100%|██████████| 2500000/2500000 [05:14<00:00, 7952.48it/s]\n"
     ]
    }
   ],
   "source": [
    "mesh = Mesh(nx = 512, ny = 512, xMin = -300e-06, xMax = 300e-06, yMin= -300e-06, yMax= 300e-06)\n",
    "\n",
    "gm = SA1_Source(ekev = 4.98, q = 0.25, S = 10, mesh = mesh)\n",
    "\n",
    "def get_temporal_profiles(source, n_spectra = 10, **kwargs):\n",
    "        \"\"\" \n",
    "        Return the temporal profiles of a statistical source\n",
    "        \"\"\"\n",
    "        temporal_profiles = np.zeros([source.nz, n_spectra])\n",
    "        \n",
    "        for itr in tqdm(range(n_spectra)):\n",
    "            temporal_profiles[:, itr] = source.get_temporal_profile(refresh = True, sigma = 3)\n",
    "            \n",
    "        return temporal_profiles\n",
    "\n",
    "temporal_profiles = get_temporal_profiles(gm, n_spectra = 2500000)\n"
   ]
  },
  {
   "cell_type": "code",
   "execution_count": null,
   "id": "813a7ef8-c9a0-45be-b03e-67cc8cecc4ca",
   "metadata": {},
   "outputs": [
    {
     "name": "stderr",
     "output_type": "stream",
     "text": [
      "  1%|          | 24001/2499999 [17:31<43:40:42, 15.75it/s]  "
     ]
    }
   ],
   "source": [
    "from felpy.utils.vis_utils import Grids, animate\n",
    "from felpy.analysis.statistics.correlation import norm \n",
    "\n",
    "\n",
    "for itr in tqdm(range(0,temporal_profiles.shape[1]-1)):\n",
    "    \n",
    "    if itr % 1000 == 0:\n",
    "        grid = Grids(scale = 2, global_aspect = 2.25)\n",
    "        grid.create_grid(n = 1, m = 2, sharex = False, sharey = True)\n",
    "\n",
    "        grid.set_fontsize(22)\n",
    "        grid.pad(2)\n",
    "\n",
    "        ax1, ax2 = grid.axes.flatten()\n",
    "        #temporal_profiles.shape\n",
    "\n",
    "        from matplotlib import pyplot as plt\n",
    "        from numpy.fft import ifft, fftshift\n",
    "\n",
    "        ti = abs(temporal_profiles)**2\n",
    "        ts = abs((ifft(temporal_profiles, axis = -1)))**2\n",
    "\n",
    "        t = np.linspace(-gm.pulse_duration/2, gm.pulse_duration/2, gm.nz)\n",
    "        w = np.linspace(-1/gm.pulse_duration/2, 1/gm.pulse_duration/2, gm.nz)\n",
    "\n",
    "        ax1.plot(t*1e15, norm(ti[:,itr]), alpha = 0.25, label = r'$f_n(t)u(t)$')\n",
    "        ax1.plot(t*1e15, norm(ti[:,:itr].mean(-1)), label = r'$\\langle f_n(t)u(t)\\rangle$')\n",
    "        ax1.text(np.min(t*1e15), 0.95, 'n = {}'.format(itr+1), size=18, ha='left', va='center')\n",
    "        ax1.legend(fontsize = 18, loc = 'upper right')\n",
    "        ax1.set_ylabel(\"Normalised Intensity (a.u)\")\n",
    "        ax2.set_xlabel(\"$\\omega$ (1/s)\")\n",
    "        from felpy.model.source import gaussian_profile \n",
    "\n",
    "        ax2.plot(w, norm(ts[:,itr]), alpha = 0.25, label = r'$\\tilde{f}_n(\\omega)\\tilde{g}(\\omega)$')\n",
    "        ax2.plot(w, norm(ts[:,:itr].mean(-1)), label = r'$\\langle \\tilde{f}(\\omega)\\tilde{g}(\\omega) \\rangle$')\n",
    "\n",
    "        ax2.legend(fontsize = 18, loc = 'upper right')\n",
    "        ax2.text(np.min(w), 0.95, 'n = {}'.format(itr), size=18, ha='left', va='center')\n",
    "        ax1.set_xlabel(\"Time (fs)\")\n",
    "\n",
    "        grid.savefig(\"./images/slow_gifs/env_plot_{:06d}.png\".format(itr))\n",
    "\n",
    "\n",
    "animate(\"./images/slow_gifs/\", \"./images/\", \"envelope_long\", delay = 0.05, rmdir = False)\n"
   ]
  },
  {
   "cell_type": "code",
   "execution_count": null,
   "id": "a6e2852c-0104-4441-8bd3-f6c9c8e09365",
   "metadata": {},
   "outputs": [],
   "source": []
  }
 ],
 "metadata": {
  "kernelspec": {
   "display_name": "optics",
   "language": "python",
   "name": "optics"
  },
  "language_info": {
   "codemirror_mode": {
    "name": "ipython",
    "version": 3
   },
   "file_extension": ".py",
   "mimetype": "text/x-python",
   "name": "python",
   "nbconvert_exporter": "python",
   "pygments_lexer": "ipython3",
   "version": "3.8.2"
  }
 },
 "nbformat": 4,
 "nbformat_minor": 5
}
